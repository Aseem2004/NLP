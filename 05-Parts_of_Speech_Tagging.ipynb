{
  "nbformat": 4,
  "nbformat_minor": 0,
  "metadata": {
    "colab": {
      "provenance": [],
      "authorship_tag": "ABX9TyOp92bIWQVa7/3g3nwKcRdT",
      "include_colab_link": true
    },
    "kernelspec": {
      "name": "python3",
      "display_name": "Python 3"
    },
    "language_info": {
      "name": "python"
    }
  },
  "cells": [
    {
      "cell_type": "markdown",
      "metadata": {
        "id": "view-in-github",
        "colab_type": "text"
      },
      "source": [
        "<a href=\"https://colab.research.google.com/github/Aseem2004/NLP/blob/main/05-Parts_of_Speech_Tagging.ipynb\" target=\"_parent\"><img src=\"https://colab.research.google.com/assets/colab-badge.svg\" alt=\"Open In Colab\"/></a>"
      ]
    },
    {
      "cell_type": "markdown",
      "source": [
        "# Part-of-Speech (POS) Tagging\n",
        "\n",
        "**Part-of-Speech (POS) Tagging** is the process of assigning each word in a text a specific grammatical category, such as noun, verb, adjective, adverb, pronoun, etc.  \n",
        "\n",
        "It is a crucial step in text preprocessing for many Natural Language Processing (NLP) tasks because it provides **syntactic and semantic context** to the words in a sentence.\n",
        "\n",
        "---\n",
        "\n",
        "## How POS Tagging Works\n",
        "\n",
        "- Each word in a sentence is analyzed to determine its role or function.  \n",
        "- Common POS tags include:  \n",
        "  - **NOUN** → person, place, thing (e.g., \"dog\", \"city\")  \n",
        "  - **VERB** → action or state (e.g., \"run\", \"is\")  \n",
        "  - **ADJ** → adjective (e.g., \"beautiful\", \"quick\")  \n",
        "  - **ADV** → adverb (e.g., \"quickly\", \"very\")  \n",
        "  - **PRON** → pronoun (e.g., \"he\", \"they\")  \n",
        "\n",
        "- POS tags can be **coarse-grained** or **fine-grained**:\n",
        "  - **Coarse-Grained POS** → broad categories like NOUN, VERB, ADJ, ADV.  \n",
        "  - **Fine-Grained POS** → detailed categories including tense, plurality, and case (e.g., singular noun `NN`, plural noun `NNS`, past tense verb `VBD`).\n",
        "\n",
        "\n",
        "## Applications of POS Tagging\n",
        "\n",
        "1. **Text Preprocessing & Cleaning**\n",
        "   - Helps in lemmatization by providing the correct POS tag (e.g., `running → run` if verb).  \n",
        "   - Can filter out less important words based on their POS (e.g., remove determiners, keep nouns/verbs).  \n",
        "\n",
        "2. **Information Extraction**\n",
        "   - Extract entities, relationships, and key phrases based on POS patterns.  \n",
        "   - Example: Extracting noun-verb-noun triples from text.  \n",
        "\n",
        "3. **Named Entity Recognition (NER)**\n",
        "   - POS tags help identify proper nouns and other important entities in a sentence.  \n",
        "\n",
        "4. **Sentiment Analysis**\n",
        "   - Adjectives and adverbs often carry sentiment; POS tagging helps isolate them.  \n",
        "\n",
        "5. **Question Answering & Chatbots**\n",
        "   - Understanding the structure of a query improves comprehension and response accuracy.  \n",
        "\n",
        "---\n"
      ],
      "metadata": {
        "id": "7-4hJ3QqXe-A"
      }
    },
    {
      "cell_type": "code",
      "execution_count": 1,
      "metadata": {
        "id": "98Xh3menVuv1",
        "colab": {
          "base_uri": "https://localhost:8080/"
        },
        "outputId": "238a734d-aac4-49c2-fa36-0f3fbd48bfbf"
      },
      "outputs": [
        {
          "output_type": "stream",
          "name": "stdout",
          "text": [
            "Requirement already satisfied: spacy in /usr/local/lib/python3.12/dist-packages (3.8.7)\n",
            "Requirement already satisfied: spacy-legacy<3.1.0,>=3.0.11 in /usr/local/lib/python3.12/dist-packages (from spacy) (3.0.12)\n",
            "Requirement already satisfied: spacy-loggers<2.0.0,>=1.0.0 in /usr/local/lib/python3.12/dist-packages (from spacy) (1.0.5)\n",
            "Requirement already satisfied: murmurhash<1.1.0,>=0.28.0 in /usr/local/lib/python3.12/dist-packages (from spacy) (1.0.13)\n",
            "Requirement already satisfied: cymem<2.1.0,>=2.0.2 in /usr/local/lib/python3.12/dist-packages (from spacy) (2.0.11)\n",
            "Requirement already satisfied: preshed<3.1.0,>=3.0.2 in /usr/local/lib/python3.12/dist-packages (from spacy) (3.0.10)\n",
            "Requirement already satisfied: thinc<8.4.0,>=8.3.4 in /usr/local/lib/python3.12/dist-packages (from spacy) (8.3.6)\n",
            "Requirement already satisfied: wasabi<1.2.0,>=0.9.1 in /usr/local/lib/python3.12/dist-packages (from spacy) (1.1.3)\n",
            "Requirement already satisfied: srsly<3.0.0,>=2.4.3 in /usr/local/lib/python3.12/dist-packages (from spacy) (2.5.1)\n",
            "Requirement already satisfied: catalogue<2.1.0,>=2.0.6 in /usr/local/lib/python3.12/dist-packages (from spacy) (2.0.10)\n",
            "Requirement already satisfied: weasel<0.5.0,>=0.1.0 in /usr/local/lib/python3.12/dist-packages (from spacy) (0.4.1)\n",
            "Requirement already satisfied: typer<1.0.0,>=0.3.0 in /usr/local/lib/python3.12/dist-packages (from spacy) (0.19.2)\n",
            "Requirement already satisfied: tqdm<5.0.0,>=4.38.0 in /usr/local/lib/python3.12/dist-packages (from spacy) (4.67.1)\n",
            "Requirement already satisfied: numpy>=1.19.0 in /usr/local/lib/python3.12/dist-packages (from spacy) (2.0.2)\n",
            "Requirement already satisfied: requests<3.0.0,>=2.13.0 in /usr/local/lib/python3.12/dist-packages (from spacy) (2.32.4)\n",
            "Requirement already satisfied: pydantic!=1.8,!=1.8.1,<3.0.0,>=1.7.4 in /usr/local/lib/python3.12/dist-packages (from spacy) (2.11.9)\n",
            "Requirement already satisfied: jinja2 in /usr/local/lib/python3.12/dist-packages (from spacy) (3.1.6)\n",
            "Requirement already satisfied: setuptools in /usr/local/lib/python3.12/dist-packages (from spacy) (75.2.0)\n",
            "Requirement already satisfied: packaging>=20.0 in /usr/local/lib/python3.12/dist-packages (from spacy) (25.0)\n",
            "Requirement already satisfied: langcodes<4.0.0,>=3.2.0 in /usr/local/lib/python3.12/dist-packages (from spacy) (3.5.0)\n",
            "Requirement already satisfied: language-data>=1.2 in /usr/local/lib/python3.12/dist-packages (from langcodes<4.0.0,>=3.2.0->spacy) (1.3.0)\n",
            "Requirement already satisfied: annotated-types>=0.6.0 in /usr/local/lib/python3.12/dist-packages (from pydantic!=1.8,!=1.8.1,<3.0.0,>=1.7.4->spacy) (0.7.0)\n",
            "Requirement already satisfied: pydantic-core==2.33.2 in /usr/local/lib/python3.12/dist-packages (from pydantic!=1.8,!=1.8.1,<3.0.0,>=1.7.4->spacy) (2.33.2)\n",
            "Requirement already satisfied: typing-extensions>=4.12.2 in /usr/local/lib/python3.12/dist-packages (from pydantic!=1.8,!=1.8.1,<3.0.0,>=1.7.4->spacy) (4.15.0)\n",
            "Requirement already satisfied: typing-inspection>=0.4.0 in /usr/local/lib/python3.12/dist-packages (from pydantic!=1.8,!=1.8.1,<3.0.0,>=1.7.4->spacy) (0.4.2)\n",
            "Requirement already satisfied: charset_normalizer<4,>=2 in /usr/local/lib/python3.12/dist-packages (from requests<3.0.0,>=2.13.0->spacy) (3.4.3)\n",
            "Requirement already satisfied: idna<4,>=2.5 in /usr/local/lib/python3.12/dist-packages (from requests<3.0.0,>=2.13.0->spacy) (3.10)\n",
            "Requirement already satisfied: urllib3<3,>=1.21.1 in /usr/local/lib/python3.12/dist-packages (from requests<3.0.0,>=2.13.0->spacy) (2.5.0)\n",
            "Requirement already satisfied: certifi>=2017.4.17 in /usr/local/lib/python3.12/dist-packages (from requests<3.0.0,>=2.13.0->spacy) (2025.8.3)\n",
            "Requirement already satisfied: blis<1.4.0,>=1.3.0 in /usr/local/lib/python3.12/dist-packages (from thinc<8.4.0,>=8.3.4->spacy) (1.3.0)\n",
            "Requirement already satisfied: confection<1.0.0,>=0.0.1 in /usr/local/lib/python3.12/dist-packages (from thinc<8.4.0,>=8.3.4->spacy) (0.1.5)\n",
            "Requirement already satisfied: click>=8.0.0 in /usr/local/lib/python3.12/dist-packages (from typer<1.0.0,>=0.3.0->spacy) (8.3.0)\n",
            "Requirement already satisfied: shellingham>=1.3.0 in /usr/local/lib/python3.12/dist-packages (from typer<1.0.0,>=0.3.0->spacy) (1.5.4)\n",
            "Requirement already satisfied: rich>=10.11.0 in /usr/local/lib/python3.12/dist-packages (from typer<1.0.0,>=0.3.0->spacy) (13.9.4)\n",
            "Requirement already satisfied: cloudpathlib<1.0.0,>=0.7.0 in /usr/local/lib/python3.12/dist-packages (from weasel<0.5.0,>=0.1.0->spacy) (0.22.0)\n",
            "Requirement already satisfied: smart-open<8.0.0,>=5.2.1 in /usr/local/lib/python3.12/dist-packages (from weasel<0.5.0,>=0.1.0->spacy) (7.3.1)\n",
            "Requirement already satisfied: MarkupSafe>=2.0 in /usr/local/lib/python3.12/dist-packages (from jinja2->spacy) (3.0.3)\n",
            "Requirement already satisfied: marisa-trie>=1.1.0 in /usr/local/lib/python3.12/dist-packages (from language-data>=1.2->langcodes<4.0.0,>=3.2.0->spacy) (1.3.1)\n",
            "Requirement already satisfied: markdown-it-py>=2.2.0 in /usr/local/lib/python3.12/dist-packages (from rich>=10.11.0->typer<1.0.0,>=0.3.0->spacy) (4.0.0)\n",
            "Requirement already satisfied: pygments<3.0.0,>=2.13.0 in /usr/local/lib/python3.12/dist-packages (from rich>=10.11.0->typer<1.0.0,>=0.3.0->spacy) (2.19.2)\n",
            "Requirement already satisfied: wrapt in /usr/local/lib/python3.12/dist-packages (from smart-open<8.0.0,>=5.2.1->weasel<0.5.0,>=0.1.0->spacy) (1.17.3)\n",
            "Requirement already satisfied: mdurl~=0.1 in /usr/local/lib/python3.12/dist-packages (from markdown-it-py>=2.2.0->rich>=10.11.0->typer<1.0.0,>=0.3.0->spacy) (0.1.2)\n"
          ]
        }
      ],
      "source": [
        "!pip install spacy"
      ]
    },
    {
      "cell_type": "code",
      "source": [
        "import spacy"
      ],
      "metadata": {
        "id": "MYNlJ-YFcBQv"
      },
      "execution_count": null,
      "outputs": []
    },
    {
      "cell_type": "markdown",
      "source": [
        "en → English language.\n",
        "\n",
        "core → General-purpose pipeline (not task-specific like \"ner-only\").\n",
        "\n",
        "web → Trained on web text (blogs, news, comments, etc.).\n",
        "\n",
        "sm → Small model (lightweight, faster, less accurate than md or lg)."
      ],
      "metadata": {
        "id": "gFi3yoTvGMOT"
      }
    },
    {
      "cell_type": "code",
      "source": [
        "nlp = spacy.load('en_core_web_sm')"
      ],
      "metadata": {
        "id": "YRjwskkfcBS7"
      },
      "execution_count": null,
      "outputs": []
    },
    {
      "cell_type": "code",
      "source": [
        "doc = nlp(\"I will google about facebook\")"
      ],
      "metadata": {
        "id": "YApV5J2ucBVJ"
      },
      "execution_count": null,
      "outputs": []
    },
    {
      "cell_type": "code",
      "source": [
        "doc.text"
      ],
      "metadata": {
        "colab": {
          "base_uri": "https://localhost:8080/",
          "height": 35
        },
        "id": "M8p7LV-ncBXY",
        "outputId": "db15314e-2921-49a5-e74b-8f888a3d270f"
      },
      "execution_count": null,
      "outputs": [
        {
          "output_type": "execute_result",
          "data": {
            "text/plain": [
              "'I will google about facebook'"
            ],
            "application/vnd.google.colaboratory.intrinsic+json": {
              "type": "string"
            }
          },
          "metadata": {},
          "execution_count": 10
        }
      ]
    },
    {
      "cell_type": "code",
      "source": [
        "doc[0]"
      ],
      "metadata": {
        "colab": {
          "base_uri": "https://localhost:8080/"
        },
        "id": "5QL0wr94cBZk",
        "outputId": "35445475-f1a7-4e68-d6a2-4b95e207875b"
      },
      "execution_count": null,
      "outputs": [
        {
          "output_type": "execute_result",
          "data": {
            "text/plain": [
              "I"
            ]
          },
          "metadata": {},
          "execution_count": 11
        }
      ]
    },
    {
      "cell_type": "code",
      "source": [
        "# This is the coarse-grained POS tag (less detailed)\n",
        "doc[0].pos_"
      ],
      "metadata": {
        "colab": {
          "base_uri": "https://localhost:8080/",
          "height": 35
        },
        "id": "6hpSH2xvcBbj",
        "outputId": "96c93615-62ca-4888-e680-a9434a74f8be"
      },
      "execution_count": null,
      "outputs": [
        {
          "output_type": "execute_result",
          "data": {
            "text/plain": [
              "'PRON'"
            ],
            "application/vnd.google.colaboratory.intrinsic+json": {
              "type": "string"
            }
          },
          "metadata": {},
          "execution_count": 12
        }
      ]
    },
    {
      "cell_type": "code",
      "source": [
        "# This is the fine-grained POS tag (more detailed)\n",
        "doc[0].tag_"
      ],
      "metadata": {
        "colab": {
          "base_uri": "https://localhost:8080/",
          "height": 35
        },
        "id": "IZS-Y4XkcBdy",
        "outputId": "b71cc3f9-14e8-4a0c-9ea2-0acca2109d95"
      },
      "execution_count": null,
      "outputs": [
        {
          "output_type": "execute_result",
          "data": {
            "text/plain": [
              "'PRP'"
            ],
            "application/vnd.google.colaboratory.intrinsic+json": {
              "type": "string"
            }
          },
          "metadata": {},
          "execution_count": 13
        }
      ]
    },
    {
      "cell_type": "code",
      "source": [
        "# SpaCy provides human-readable explanations for tags\n",
        "spacy.explain('PRP')"
      ],
      "metadata": {
        "colab": {
          "base_uri": "https://localhost:8080/",
          "height": 35
        },
        "id": "7mxy65wMcBf2",
        "outputId": "a792a19c-6d4a-4dca-dca6-7efbf9c882d9"
      },
      "execution_count": null,
      "outputs": [
        {
          "output_type": "execute_result",
          "data": {
            "text/plain": [
              "'pronoun, personal'"
            ],
            "application/vnd.google.colaboratory.intrinsic+json": {
              "type": "string"
            }
          },
          "metadata": {},
          "execution_count": 14
        }
      ]
    },
    {
      "cell_type": "code",
      "source": [
        "for word in doc:\n",
        "    print(word.text,\"------>\", word.pos_,\", \",word.tag_,\", \",spacy.explain(word.tag_))"
      ],
      "metadata": {
        "colab": {
          "base_uri": "https://localhost:8080/"
        },
        "id": "9b2JQgZhcBil",
        "outputId": "2e0441b6-e5b0-45c6-877e-9a03cdda7aae"
      },
      "execution_count": null,
      "outputs": [
        {
          "output_type": "stream",
          "name": "stdout",
          "text": [
            "I ------> PRON ,  PRP ,  pronoun, personal\n",
            "will ------> AUX ,  MD ,  verb, modal auxiliary\n",
            "google ------> VERB ,  VB ,  verb, base form\n",
            "about ------> ADP ,  IN ,  conjunction, subordinating or preposition\n",
            "facebook ------> PROPN ,  NNP ,  noun, proper singular\n"
          ]
        }
      ]
    },
    {
      "cell_type": "code",
      "source": [
        "doc1 = nlp(u\"I read books on history\")\n",
        "doc2 = nlp(u\"I have read a book on history\")"
      ],
      "metadata": {
        "id": "9163LF83cBkj"
      },
      "execution_count": null,
      "outputs": []
    },
    {
      "cell_type": "code",
      "source": [
        "# Notice different interpretations of the same word are captured\n",
        "print(doc1[1].tag_)\n",
        "print(doc2[2].tag_)"
      ],
      "metadata": {
        "colab": {
          "base_uri": "https://localhost:8080/"
        },
        "id": "OGDZBKmscBml",
        "outputId": "fb2e0ce1-b0d9-47d5-e9a4-c7db4c539abb"
      },
      "execution_count": null,
      "outputs": [
        {
          "output_type": "stream",
          "name": "stdout",
          "text": [
            "VBP\n",
            "VBN\n"
          ]
        }
      ]
    },
    {
      "cell_type": "code",
      "source": [
        "print(spacy.explain('VBP'))\n",
        "print(spacy.explain('VBN'))"
      ],
      "metadata": {
        "colab": {
          "base_uri": "https://localhost:8080/"
        },
        "id": "6fbYQBhpcnlk",
        "outputId": "e2fa02ab-c46c-4810-c892-a35df6b12e8e"
      },
      "execution_count": null,
      "outputs": [
        {
          "output_type": "stream",
          "name": "stdout",
          "text": [
            "verb, non-3rd person singular present\n",
            "verb, past participle\n"
          ]
        }
      ]
    },
    {
      "cell_type": "code",
      "source": [
        "doc3 = nlp(u\"The quick brown fox jumped over the lazy dog\")"
      ],
      "metadata": {
        "id": "-JJHHxUMcnnw"
      },
      "execution_count": null,
      "outputs": []
    },
    {
      "cell_type": "code",
      "source": [
        "from spacy import displacy"
      ],
      "metadata": {
        "id": "v6JSD1Afcnpp"
      },
      "execution_count": null,
      "outputs": []
    },
    {
      "cell_type": "markdown",
      "source": [
        "style=\"dep\" → tells displaCy to draw the dependency parse tree of the sentence.\n",
        "\n",
        "Instead of just POS tags, this visualization shows:\n",
        "\n",
        "- Each word (token) in the sentence.\n",
        "\n",
        "- Its part-of-speech (POS).\n",
        "\n",
        "- The syntactic dependency relation between words (who modifies whom, who is the head, etc.).\n",
        "\n",
        "- Arrows → pointing from the head word to the dependent word."
      ],
      "metadata": {
        "id": "D2aZchbmI6do"
      }
    },
    {
      "cell_type": "code",
      "source": [
        "displacy.render(doc3,style='dep',jupyter=True)"
      ],
      "metadata": {
        "colab": {
          "base_uri": "https://localhost:8080/",
          "height": 421
        },
        "id": "igA2m1Gncnrw",
        "outputId": "bc9cc312-b093-48a1-cfd0-558996a79b80"
      },
      "execution_count": null,
      "outputs": [
        {
          "output_type": "display_data",
          "data": {
            "text/plain": [
              "<IPython.core.display.HTML object>"
            ],
            "text/html": [
              "<span class=\"tex2jax_ignore\"><svg xmlns=\"http://www.w3.org/2000/svg\" xmlns:xlink=\"http://www.w3.org/1999/xlink\" xml:lang=\"en\" id=\"97d76e13565445b0b72828cee64783ec-0\" class=\"displacy\" width=\"1625\" height=\"399.5\" direction=\"ltr\" style=\"max-width: none; height: 399.5px; color: #000000; background: #ffffff; font-family: Arial; direction: ltr\">\n",
              "<text class=\"displacy-token\" fill=\"currentColor\" text-anchor=\"middle\" y=\"309.5\">\n",
              "    <tspan class=\"displacy-word\" fill=\"currentColor\" x=\"50\">The</tspan>\n",
              "    <tspan class=\"displacy-tag\" dy=\"2em\" fill=\"currentColor\" x=\"50\">DET</tspan>\n",
              "</text>\n",
              "\n",
              "<text class=\"displacy-token\" fill=\"currentColor\" text-anchor=\"middle\" y=\"309.5\">\n",
              "    <tspan class=\"displacy-word\" fill=\"currentColor\" x=\"225\">quick</tspan>\n",
              "    <tspan class=\"displacy-tag\" dy=\"2em\" fill=\"currentColor\" x=\"225\">ADJ</tspan>\n",
              "</text>\n",
              "\n",
              "<text class=\"displacy-token\" fill=\"currentColor\" text-anchor=\"middle\" y=\"309.5\">\n",
              "    <tspan class=\"displacy-word\" fill=\"currentColor\" x=\"400\">brown</tspan>\n",
              "    <tspan class=\"displacy-tag\" dy=\"2em\" fill=\"currentColor\" x=\"400\">ADJ</tspan>\n",
              "</text>\n",
              "\n",
              "<text class=\"displacy-token\" fill=\"currentColor\" text-anchor=\"middle\" y=\"309.5\">\n",
              "    <tspan class=\"displacy-word\" fill=\"currentColor\" x=\"575\">fox</tspan>\n",
              "    <tspan class=\"displacy-tag\" dy=\"2em\" fill=\"currentColor\" x=\"575\">NOUN</tspan>\n",
              "</text>\n",
              "\n",
              "<text class=\"displacy-token\" fill=\"currentColor\" text-anchor=\"middle\" y=\"309.5\">\n",
              "    <tspan class=\"displacy-word\" fill=\"currentColor\" x=\"750\">jumped</tspan>\n",
              "    <tspan class=\"displacy-tag\" dy=\"2em\" fill=\"currentColor\" x=\"750\">VERB</tspan>\n",
              "</text>\n",
              "\n",
              "<text class=\"displacy-token\" fill=\"currentColor\" text-anchor=\"middle\" y=\"309.5\">\n",
              "    <tspan class=\"displacy-word\" fill=\"currentColor\" x=\"925\">over</tspan>\n",
              "    <tspan class=\"displacy-tag\" dy=\"2em\" fill=\"currentColor\" x=\"925\">ADP</tspan>\n",
              "</text>\n",
              "\n",
              "<text class=\"displacy-token\" fill=\"currentColor\" text-anchor=\"middle\" y=\"309.5\">\n",
              "    <tspan class=\"displacy-word\" fill=\"currentColor\" x=\"1100\">the</tspan>\n",
              "    <tspan class=\"displacy-tag\" dy=\"2em\" fill=\"currentColor\" x=\"1100\">DET</tspan>\n",
              "</text>\n",
              "\n",
              "<text class=\"displacy-token\" fill=\"currentColor\" text-anchor=\"middle\" y=\"309.5\">\n",
              "    <tspan class=\"displacy-word\" fill=\"currentColor\" x=\"1275\">lazy</tspan>\n",
              "    <tspan class=\"displacy-tag\" dy=\"2em\" fill=\"currentColor\" x=\"1275\">ADJ</tspan>\n",
              "</text>\n",
              "\n",
              "<text class=\"displacy-token\" fill=\"currentColor\" text-anchor=\"middle\" y=\"309.5\">\n",
              "    <tspan class=\"displacy-word\" fill=\"currentColor\" x=\"1450\">dog</tspan>\n",
              "    <tspan class=\"displacy-tag\" dy=\"2em\" fill=\"currentColor\" x=\"1450\">NOUN</tspan>\n",
              "</text>\n",
              "\n",
              "<g class=\"displacy-arrow\">\n",
              "    <path class=\"displacy-arc\" id=\"arrow-97d76e13565445b0b72828cee64783ec-0-0\" stroke-width=\"2px\" d=\"M70,264.5 C70,2.0 575.0,2.0 575.0,264.5\" fill=\"none\" stroke=\"currentColor\"/>\n",
              "    <text dy=\"1.25em\" style=\"font-size: 0.8em; letter-spacing: 1px\">\n",
              "        <textPath xlink:href=\"#arrow-97d76e13565445b0b72828cee64783ec-0-0\" class=\"displacy-label\" startOffset=\"50%\" side=\"left\" fill=\"currentColor\" text-anchor=\"middle\">det</textPath>\n",
              "    </text>\n",
              "    <path class=\"displacy-arrowhead\" d=\"M70,266.5 L62,254.5 78,254.5\" fill=\"currentColor\"/>\n",
              "</g>\n",
              "\n",
              "<g class=\"displacy-arrow\">\n",
              "    <path class=\"displacy-arc\" id=\"arrow-97d76e13565445b0b72828cee64783ec-0-1\" stroke-width=\"2px\" d=\"M245,264.5 C245,89.5 570.0,89.5 570.0,264.5\" fill=\"none\" stroke=\"currentColor\"/>\n",
              "    <text dy=\"1.25em\" style=\"font-size: 0.8em; letter-spacing: 1px\">\n",
              "        <textPath xlink:href=\"#arrow-97d76e13565445b0b72828cee64783ec-0-1\" class=\"displacy-label\" startOffset=\"50%\" side=\"left\" fill=\"currentColor\" text-anchor=\"middle\">amod</textPath>\n",
              "    </text>\n",
              "    <path class=\"displacy-arrowhead\" d=\"M245,266.5 L237,254.5 253,254.5\" fill=\"currentColor\"/>\n",
              "</g>\n",
              "\n",
              "<g class=\"displacy-arrow\">\n",
              "    <path class=\"displacy-arc\" id=\"arrow-97d76e13565445b0b72828cee64783ec-0-2\" stroke-width=\"2px\" d=\"M420,264.5 C420,177.0 565.0,177.0 565.0,264.5\" fill=\"none\" stroke=\"currentColor\"/>\n",
              "    <text dy=\"1.25em\" style=\"font-size: 0.8em; letter-spacing: 1px\">\n",
              "        <textPath xlink:href=\"#arrow-97d76e13565445b0b72828cee64783ec-0-2\" class=\"displacy-label\" startOffset=\"50%\" side=\"left\" fill=\"currentColor\" text-anchor=\"middle\">amod</textPath>\n",
              "    </text>\n",
              "    <path class=\"displacy-arrowhead\" d=\"M420,266.5 L412,254.5 428,254.5\" fill=\"currentColor\"/>\n",
              "</g>\n",
              "\n",
              "<g class=\"displacy-arrow\">\n",
              "    <path class=\"displacy-arc\" id=\"arrow-97d76e13565445b0b72828cee64783ec-0-3\" stroke-width=\"2px\" d=\"M595,264.5 C595,177.0 740.0,177.0 740.0,264.5\" fill=\"none\" stroke=\"currentColor\"/>\n",
              "    <text dy=\"1.25em\" style=\"font-size: 0.8em; letter-spacing: 1px\">\n",
              "        <textPath xlink:href=\"#arrow-97d76e13565445b0b72828cee64783ec-0-3\" class=\"displacy-label\" startOffset=\"50%\" side=\"left\" fill=\"currentColor\" text-anchor=\"middle\">nsubj</textPath>\n",
              "    </text>\n",
              "    <path class=\"displacy-arrowhead\" d=\"M595,266.5 L587,254.5 603,254.5\" fill=\"currentColor\"/>\n",
              "</g>\n",
              "\n",
              "<g class=\"displacy-arrow\">\n",
              "    <path class=\"displacy-arc\" id=\"arrow-97d76e13565445b0b72828cee64783ec-0-4\" stroke-width=\"2px\" d=\"M770,264.5 C770,177.0 915.0,177.0 915.0,264.5\" fill=\"none\" stroke=\"currentColor\"/>\n",
              "    <text dy=\"1.25em\" style=\"font-size: 0.8em; letter-spacing: 1px\">\n",
              "        <textPath xlink:href=\"#arrow-97d76e13565445b0b72828cee64783ec-0-4\" class=\"displacy-label\" startOffset=\"50%\" side=\"left\" fill=\"currentColor\" text-anchor=\"middle\">prep</textPath>\n",
              "    </text>\n",
              "    <path class=\"displacy-arrowhead\" d=\"M915.0,266.5 L923.0,254.5 907.0,254.5\" fill=\"currentColor\"/>\n",
              "</g>\n",
              "\n",
              "<g class=\"displacy-arrow\">\n",
              "    <path class=\"displacy-arc\" id=\"arrow-97d76e13565445b0b72828cee64783ec-0-5\" stroke-width=\"2px\" d=\"M1120,264.5 C1120,89.5 1445.0,89.5 1445.0,264.5\" fill=\"none\" stroke=\"currentColor\"/>\n",
              "    <text dy=\"1.25em\" style=\"font-size: 0.8em; letter-spacing: 1px\">\n",
              "        <textPath xlink:href=\"#arrow-97d76e13565445b0b72828cee64783ec-0-5\" class=\"displacy-label\" startOffset=\"50%\" side=\"left\" fill=\"currentColor\" text-anchor=\"middle\">det</textPath>\n",
              "    </text>\n",
              "    <path class=\"displacy-arrowhead\" d=\"M1120,266.5 L1112,254.5 1128,254.5\" fill=\"currentColor\"/>\n",
              "</g>\n",
              "\n",
              "<g class=\"displacy-arrow\">\n",
              "    <path class=\"displacy-arc\" id=\"arrow-97d76e13565445b0b72828cee64783ec-0-6\" stroke-width=\"2px\" d=\"M1295,264.5 C1295,177.0 1440.0,177.0 1440.0,264.5\" fill=\"none\" stroke=\"currentColor\"/>\n",
              "    <text dy=\"1.25em\" style=\"font-size: 0.8em; letter-spacing: 1px\">\n",
              "        <textPath xlink:href=\"#arrow-97d76e13565445b0b72828cee64783ec-0-6\" class=\"displacy-label\" startOffset=\"50%\" side=\"left\" fill=\"currentColor\" text-anchor=\"middle\">amod</textPath>\n",
              "    </text>\n",
              "    <path class=\"displacy-arrowhead\" d=\"M1295,266.5 L1287,254.5 1303,254.5\" fill=\"currentColor\"/>\n",
              "</g>\n",
              "\n",
              "<g class=\"displacy-arrow\">\n",
              "    <path class=\"displacy-arc\" id=\"arrow-97d76e13565445b0b72828cee64783ec-0-7\" stroke-width=\"2px\" d=\"M945,264.5 C945,2.0 1450.0,2.0 1450.0,264.5\" fill=\"none\" stroke=\"currentColor\"/>\n",
              "    <text dy=\"1.25em\" style=\"font-size: 0.8em; letter-spacing: 1px\">\n",
              "        <textPath xlink:href=\"#arrow-97d76e13565445b0b72828cee64783ec-0-7\" class=\"displacy-label\" startOffset=\"50%\" side=\"left\" fill=\"currentColor\" text-anchor=\"middle\">pobj</textPath>\n",
              "    </text>\n",
              "    <path class=\"displacy-arrowhead\" d=\"M1450.0,266.5 L1458.0,254.5 1442.0,254.5\" fill=\"currentColor\"/>\n",
              "</g>\n",
              "</svg></span>"
            ]
          },
          "metadata": {}
        }
      ]
    },
    {
      "cell_type": "markdown",
      "source": [
        "Example here:<br>\n",
        "- \"fox\" → subject of \"jumped\" (nsubj)\n",
        "- \"jumped\" → root verb of the sentence (ROOT)"
      ],
      "metadata": {
        "id": "CGvqM85YJHbm"
      }
    },
    {
      "cell_type": "code",
      "source": [
        "options = {\n",
        "    'distance': 80,   # horizontal spacing between words\n",
        "    'compact': True,  # makes the arcs more compact\n",
        "    'color': '#fff',  # text color (white)\n",
        "    'bg': '#00a65a'   # background color (greenish)\n",
        "}"
      ],
      "metadata": {
        "id": "SyFnKHA7cnud"
      },
      "execution_count": null,
      "outputs": []
    },
    {
      "cell_type": "code",
      "source": [
        "displacy.render(doc3,style='dep',jupyter=True,options=options)"
      ],
      "metadata": {
        "colab": {
          "base_uri": "https://localhost:8080/",
          "height": 278
        },
        "id": "-KZ2t1eFdB28",
        "outputId": "7e1c9050-c595-4269-a95e-2d290c55dd81"
      },
      "execution_count": null,
      "outputs": [
        {
          "output_type": "display_data",
          "data": {
            "text/plain": [
              "<IPython.core.display.HTML object>"
            ],
            "text/html": [
              "<span class=\"tex2jax_ignore\"><svg xmlns=\"http://www.w3.org/2000/svg\" xmlns:xlink=\"http://www.w3.org/1999/xlink\" xml:lang=\"en\" id=\"13bc9d8e29d548178e8d022c1b637594-0\" class=\"displacy\" width=\"770\" height=\"257.0\" direction=\"ltr\" style=\"max-width: none; height: 257.0px; color: #fff; background: #00a65a; font-family: Arial; direction: ltr\">\n",
              "<text class=\"displacy-token\" fill=\"currentColor\" text-anchor=\"middle\" y=\"167.0\">\n",
              "    <tspan class=\"displacy-word\" fill=\"currentColor\" x=\"50\">The</tspan>\n",
              "    <tspan class=\"displacy-tag\" dy=\"2em\" fill=\"currentColor\" x=\"50\">DET</tspan>\n",
              "</text>\n",
              "\n",
              "<text class=\"displacy-token\" fill=\"currentColor\" text-anchor=\"middle\" y=\"167.0\">\n",
              "    <tspan class=\"displacy-word\" fill=\"currentColor\" x=\"130\">quick</tspan>\n",
              "    <tspan class=\"displacy-tag\" dy=\"2em\" fill=\"currentColor\" x=\"130\">ADJ</tspan>\n",
              "</text>\n",
              "\n",
              "<text class=\"displacy-token\" fill=\"currentColor\" text-anchor=\"middle\" y=\"167.0\">\n",
              "    <tspan class=\"displacy-word\" fill=\"currentColor\" x=\"210\">brown</tspan>\n",
              "    <tspan class=\"displacy-tag\" dy=\"2em\" fill=\"currentColor\" x=\"210\">ADJ</tspan>\n",
              "</text>\n",
              "\n",
              "<text class=\"displacy-token\" fill=\"currentColor\" text-anchor=\"middle\" y=\"167.0\">\n",
              "    <tspan class=\"displacy-word\" fill=\"currentColor\" x=\"290\">fox</tspan>\n",
              "    <tspan class=\"displacy-tag\" dy=\"2em\" fill=\"currentColor\" x=\"290\">NOUN</tspan>\n",
              "</text>\n",
              "\n",
              "<text class=\"displacy-token\" fill=\"currentColor\" text-anchor=\"middle\" y=\"167.0\">\n",
              "    <tspan class=\"displacy-word\" fill=\"currentColor\" x=\"370\">jumped</tspan>\n",
              "    <tspan class=\"displacy-tag\" dy=\"2em\" fill=\"currentColor\" x=\"370\">VERB</tspan>\n",
              "</text>\n",
              "\n",
              "<text class=\"displacy-token\" fill=\"currentColor\" text-anchor=\"middle\" y=\"167.0\">\n",
              "    <tspan class=\"displacy-word\" fill=\"currentColor\" x=\"450\">over</tspan>\n",
              "    <tspan class=\"displacy-tag\" dy=\"2em\" fill=\"currentColor\" x=\"450\">ADP</tspan>\n",
              "</text>\n",
              "\n",
              "<text class=\"displacy-token\" fill=\"currentColor\" text-anchor=\"middle\" y=\"167.0\">\n",
              "    <tspan class=\"displacy-word\" fill=\"currentColor\" x=\"530\">the</tspan>\n",
              "    <tspan class=\"displacy-tag\" dy=\"2em\" fill=\"currentColor\" x=\"530\">DET</tspan>\n",
              "</text>\n",
              "\n",
              "<text class=\"displacy-token\" fill=\"currentColor\" text-anchor=\"middle\" y=\"167.0\">\n",
              "    <tspan class=\"displacy-word\" fill=\"currentColor\" x=\"610\">lazy</tspan>\n",
              "    <tspan class=\"displacy-tag\" dy=\"2em\" fill=\"currentColor\" x=\"610\">ADJ</tspan>\n",
              "</text>\n",
              "\n",
              "<text class=\"displacy-token\" fill=\"currentColor\" text-anchor=\"middle\" y=\"167.0\">\n",
              "    <tspan class=\"displacy-word\" fill=\"currentColor\" x=\"690\">dog</tspan>\n",
              "    <tspan class=\"displacy-tag\" dy=\"2em\" fill=\"currentColor\" x=\"690\">NOUN</tspan>\n",
              "</text>\n",
              "\n",
              "<g class=\"displacy-arrow\">\n",
              "    <path class=\"displacy-arc\" id=\"arrow-13bc9d8e29d548178e8d022c1b637594-0-0\" stroke-width=\"2px\" d=\"M62,122.0 62,82.0 290.0,82.0 290.0,122.0\" fill=\"none\" stroke=\"currentColor\"/>\n",
              "    <text dy=\"1.25em\" style=\"font-size: 0.8em; letter-spacing: 1px\">\n",
              "        <textPath xlink:href=\"#arrow-13bc9d8e29d548178e8d022c1b637594-0-0\" class=\"displacy-label\" startOffset=\"50%\" side=\"left\" fill=\"currentColor\" text-anchor=\"middle\">det</textPath>\n",
              "    </text>\n",
              "    <path class=\"displacy-arrowhead\" d=\"M62,124.0 L58,116.0 66,116.0\" fill=\"currentColor\"/>\n",
              "</g>\n",
              "\n",
              "<g class=\"displacy-arrow\">\n",
              "    <path class=\"displacy-arc\" id=\"arrow-13bc9d8e29d548178e8d022c1b637594-0-1\" stroke-width=\"2px\" d=\"M142,122.0 142,95.33333333333333 287.0,95.33333333333333 287.0,122.0\" fill=\"none\" stroke=\"currentColor\"/>\n",
              "    <text dy=\"1.25em\" style=\"font-size: 0.8em; letter-spacing: 1px\">\n",
              "        <textPath xlink:href=\"#arrow-13bc9d8e29d548178e8d022c1b637594-0-1\" class=\"displacy-label\" startOffset=\"50%\" side=\"left\" fill=\"currentColor\" text-anchor=\"middle\">amod</textPath>\n",
              "    </text>\n",
              "    <path class=\"displacy-arrowhead\" d=\"M142,124.0 L138,116.0 146,116.0\" fill=\"currentColor\"/>\n",
              "</g>\n",
              "\n",
              "<g class=\"displacy-arrow\">\n",
              "    <path class=\"displacy-arc\" id=\"arrow-13bc9d8e29d548178e8d022c1b637594-0-2\" stroke-width=\"2px\" d=\"M222,122.0 222,108.66666666666667 284.0,108.66666666666667 284.0,122.0\" fill=\"none\" stroke=\"currentColor\"/>\n",
              "    <text dy=\"1.25em\" style=\"font-size: 0.8em; letter-spacing: 1px\">\n",
              "        <textPath xlink:href=\"#arrow-13bc9d8e29d548178e8d022c1b637594-0-2\" class=\"displacy-label\" startOffset=\"50%\" side=\"left\" fill=\"currentColor\" text-anchor=\"middle\">amod</textPath>\n",
              "    </text>\n",
              "    <path class=\"displacy-arrowhead\" d=\"M222,124.0 L218,116.0 226,116.0\" fill=\"currentColor\"/>\n",
              "</g>\n",
              "\n",
              "<g class=\"displacy-arrow\">\n",
              "    <path class=\"displacy-arc\" id=\"arrow-13bc9d8e29d548178e8d022c1b637594-0-3\" stroke-width=\"2px\" d=\"M302,122.0 302,108.66666666666667 364.0,108.66666666666667 364.0,122.0\" fill=\"none\" stroke=\"currentColor\"/>\n",
              "    <text dy=\"1.25em\" style=\"font-size: 0.8em; letter-spacing: 1px\">\n",
              "        <textPath xlink:href=\"#arrow-13bc9d8e29d548178e8d022c1b637594-0-3\" class=\"displacy-label\" startOffset=\"50%\" side=\"left\" fill=\"currentColor\" text-anchor=\"middle\">nsubj</textPath>\n",
              "    </text>\n",
              "    <path class=\"displacy-arrowhead\" d=\"M302,124.0 L298,116.0 306,116.0\" fill=\"currentColor\"/>\n",
              "</g>\n",
              "\n",
              "<g class=\"displacy-arrow\">\n",
              "    <path class=\"displacy-arc\" id=\"arrow-13bc9d8e29d548178e8d022c1b637594-0-4\" stroke-width=\"2px\" d=\"M382,122.0 382,108.66666666666667 444.0,108.66666666666667 444.0,122.0\" fill=\"none\" stroke=\"currentColor\"/>\n",
              "    <text dy=\"1.25em\" style=\"font-size: 0.8em; letter-spacing: 1px\">\n",
              "        <textPath xlink:href=\"#arrow-13bc9d8e29d548178e8d022c1b637594-0-4\" class=\"displacy-label\" startOffset=\"50%\" side=\"left\" fill=\"currentColor\" text-anchor=\"middle\">prep</textPath>\n",
              "    </text>\n",
              "    <path class=\"displacy-arrowhead\" d=\"M444.0,124.0 L448.0,116.0 440.0,116.0\" fill=\"currentColor\"/>\n",
              "</g>\n",
              "\n",
              "<g class=\"displacy-arrow\">\n",
              "    <path class=\"displacy-arc\" id=\"arrow-13bc9d8e29d548178e8d022c1b637594-0-5\" stroke-width=\"2px\" d=\"M542,122.0 542,95.33333333333333 687.0,95.33333333333333 687.0,122.0\" fill=\"none\" stroke=\"currentColor\"/>\n",
              "    <text dy=\"1.25em\" style=\"font-size: 0.8em; letter-spacing: 1px\">\n",
              "        <textPath xlink:href=\"#arrow-13bc9d8e29d548178e8d022c1b637594-0-5\" class=\"displacy-label\" startOffset=\"50%\" side=\"left\" fill=\"currentColor\" text-anchor=\"middle\">det</textPath>\n",
              "    </text>\n",
              "    <path class=\"displacy-arrowhead\" d=\"M542,124.0 L538,116.0 546,116.0\" fill=\"currentColor\"/>\n",
              "</g>\n",
              "\n",
              "<g class=\"displacy-arrow\">\n",
              "    <path class=\"displacy-arc\" id=\"arrow-13bc9d8e29d548178e8d022c1b637594-0-6\" stroke-width=\"2px\" d=\"M622,122.0 622,108.66666666666667 684.0,108.66666666666667 684.0,122.0\" fill=\"none\" stroke=\"currentColor\"/>\n",
              "    <text dy=\"1.25em\" style=\"font-size: 0.8em; letter-spacing: 1px\">\n",
              "        <textPath xlink:href=\"#arrow-13bc9d8e29d548178e8d022c1b637594-0-6\" class=\"displacy-label\" startOffset=\"50%\" side=\"left\" fill=\"currentColor\" text-anchor=\"middle\">amod</textPath>\n",
              "    </text>\n",
              "    <path class=\"displacy-arrowhead\" d=\"M622,124.0 L618,116.0 626,116.0\" fill=\"currentColor\"/>\n",
              "</g>\n",
              "\n",
              "<g class=\"displacy-arrow\">\n",
              "    <path class=\"displacy-arc\" id=\"arrow-13bc9d8e29d548178e8d022c1b637594-0-7\" stroke-width=\"2px\" d=\"M462,122.0 462,82.0 690.0,82.0 690.0,122.0\" fill=\"none\" stroke=\"currentColor\"/>\n",
              "    <text dy=\"1.25em\" style=\"font-size: 0.8em; letter-spacing: 1px\">\n",
              "        <textPath xlink:href=\"#arrow-13bc9d8e29d548178e8d022c1b637594-0-7\" class=\"displacy-label\" startOffset=\"50%\" side=\"left\" fill=\"currentColor\" text-anchor=\"middle\">pobj</textPath>\n",
              "    </text>\n",
              "    <path class=\"displacy-arrowhead\" d=\"M690.0,124.0 L694.0,116.0 686.0,116.0\" fill=\"currentColor\"/>\n",
              "</g>\n",
              "</svg></span>"
            ]
          },
          "metadata": {}
        }
      ]
    },
    {
      "cell_type": "markdown",
      "source": [
        "# Hidden Markov Models (HMM)\n",
        "\n",
        "A **Hidden Markov Model (HMM)** is a statistical model that assumes there is an underlying hidden sequence of states which generates the observed data.  \n",
        "It is widely used in **Natural Language Processing (NLP)** tasks such as **Part-of-Speech (POS) tagging**, **speech recognition**, and **named entity recognition**.\n",
        "\n",
        "---\n",
        "\n",
        "## Key Concepts\n",
        "\n",
        "1. **States (Hidden Variables)**  \n",
        "   These represent the hidden categories we want to infer (e.g., POS tags: Noun, Verb, Adjective).\n",
        "\n",
        "2. **Observations (Visible Variables)**  \n",
        "   These are the observed data (e.g., words in a sentence).\n",
        "\n",
        "3. **Probabilities in HMM**:\n",
        "   - **Initial Probability (π):**  \n",
        "     The probability of starting in a particular hidden state.  \n",
        "     Example: P(Noun at position 1).\n",
        "     \n",
        "   - **Transition Probability (A):**  \n",
        "     The probability of moving from one state to another.  \n",
        "     Example: P(Verb → Noun).\n",
        "     \n",
        "   - **Emission Probability (B):**  \n",
        "     The probability of an observed word being generated from a state.  \n",
        "     Example: P(\"play\" | Verb).\n",
        "\n",
        "---\n",
        "\n",
        "## Example: POS Tagging with HMM\n",
        "\n",
        "Let’s consider a toy dataset with 2 states (**Noun, Verb**) and 3 observed words (**play, ball, eat**).\n",
        "\n",
        "### 1. Initial Probabilities (π)\n",
        "\n",
        "| State | Probability |\n",
        "|-------|-------------|\n",
        "| Noun  | 0.6         |\n",
        "| Verb  | 0.4         |\n",
        "\n",
        "Interpretation: A sentence is more likely to start with a **Noun** (0.6) than a **Verb** (0.4).\n",
        "\n",
        "---\n",
        "\n",
        "### 2. Transition Probabilities (A)\n",
        "\n",
        "| From \\ To | Noun | Verb |\n",
        "|-----------|------|------|\n",
        "| Noun      | 0.3  | 0.7  |\n",
        "| Verb      | 0.8  | 0.2  |\n",
        "\n",
        "Interpretation:  \n",
        "- If we are at **Noun**, there’s a 70% chance the next word is a **Verb**.  \n",
        "- If we are at **Verb**, there’s an 80% chance the next is a **Noun**.\n",
        "\n",
        "---\n",
        "\n",
        "### 3. Emission Probabilities (B)\n",
        "\n",
        "| State | play | ball | eat |\n",
        "|-------|------|------|-----|\n",
        "| Noun  | 0.1  | 0.8  | 0.1 |\n",
        "| Verb  | 0.6  | 0.1  | 0.3 |\n",
        "\n",
        "Interpretation:  \n",
        "- A **Noun** is most likely to emit “ball” (0.8).  \n",
        "- A **Verb** is most likely to emit “play” (0.6).  \n",
        "\n",
        "---\n",
        "\n",
        "## Sample Calculation\n",
        "\n",
        "Suppose we observe the sequence: **\"play ball\"**.  \n",
        "We want to calculate the probability of this observation given the HMM.\n",
        "\n",
        "---\n",
        "\n",
        "### Step 1: Possible Hidden State Sequences\n",
        "1. Noun → Noun  \n",
        "2. Noun → Verb  \n",
        "3. Verb → Noun  \n",
        "4. Verb → Verb<br>\n",
        "\n",
        "##### There are only 2 words (play,ball) and 2 possibilities (N,V). Hence only 2^2=4 possibilities.\n",
        "---\n",
        "\n",
        "### Step 2: Compute Probability of Each Sequence\n",
        "\n",
        "Formula:  \n",
        "P(sequence) = Initial × Emission(word1) × Transition × Emission(word2)\n",
        "\n",
        "#### Case 1: Noun → Noun\n",
        "= π(Noun) × B(Noun → play) × A(Noun → Noun) × B(Noun → ball)\n",
        "= 0.6 × 0.1 × 0.3 × 0.8\n",
        "= 0.0144\n",
        "\n",
        "#### Case 2: Noun → Verb\n",
        "\n",
        "= π(Noun) × B(Noun → play) × A(Noun → Verb) × B(Verb → ball)\n",
        "= 0.6 × 0.1 × 0.7 × 0.1\n",
        "= 0.0042\n",
        "\n",
        "\n",
        "#### Case 3: Verb → Noun\n",
        "= π(Verb) × B(Verb → play) × A(Verb → Noun) × B(Noun → ball)\n",
        "= 0.4 × 0.6 × 0.8 × 0.8\n",
        "= **0.1536**\n",
        "\n",
        "\n",
        "#### Case 4: Verb → Verb\n",
        "= π(Verb) × B(Verb → play) × A(Verb → Verb) × B(Verb → ball)\n",
        "= 0.4 × 0.6 × 0.2 × 0.1\n",
        "= 0.0048\n",
        "\n",
        "---\n",
        "\n",
        "\n",
        "## Interpretation\n",
        "\n",
        "- The most probable sequence of states for **\"play ball\"** is **Verb → Noun** with probability **0.1536**.  \n",
        "- Thus, the HMM predicts that \"play\" is a **Verb** and \"ball\" is a **Noun**.\n",
        "\n",
        "---\n",
        "\n",
        "## Applications of HMM\n",
        "\n",
        "- **POS Tagging**: Assigning grammatical categories to words.\n",
        "- **Speech Recognition**: Mapping audio signals to phonemes/words.\n",
        "- **Named Entity Recognition (NER)**: Detecting names, places, dates in text.\n",
        "- **Bioinformatics**: Gene prediction and protein modeling.\n",
        "\n",
        "---\n"
      ],
      "metadata": {
        "id": "Q1eHwC8wElyJ"
      }
    },
    {
      "cell_type": "markdown",
      "source": [
        "# Viterbi Algorithm (with Example)\n",
        "\n",
        "The **Viterbi Algorithm** is a dynamic programming technique to efficiently compute the most probable sequence of hidden states in a Hidden Markov Model (HMM).\n",
        "\n",
        "---\n",
        "\n",
        "\n",
        "## Why Do We Need Viterbi?\n",
        "\n",
        "- In an HMM, each word in a sentence can map to multiple possible states (e.g., Noun, Verb).  \n",
        "- Checking all possible state sequences quickly becomes infeasible:\n",
        "  - Example: 2 states × 10 words → `2^10 = 1024` possible sequences.  \n",
        "- **Viterbi avoids brute force** by keeping track of the **best path so far** at each step.\n",
        "\n",
        "---\n",
        "\n",
        "## Core Idea (Intuitive)\n",
        "\n",
        "At each word in the sentence:\n",
        "1. Look at all possible states for this word.  \n",
        "2. For each state, calculate the **best probability** of reaching it from any previous state.  \n",
        "3. Keep track of which previous state gave that best probability (this is the **backpointer**).  \n",
        "4. Move to the next word and repeat.  \n",
        "\n",
        "At the end, we simply **backtrack through the best choices** to get the most probable sequence.\n",
        "\n",
        "---\n",
        "\n",
        "\n",
        "## Example: Sentence = \"watch the play\"\n",
        "\n",
        "We want to find whether words are more likely tagged as **Noun (N)** or **Verb (V)**.\n",
        "\n",
        "### Step 1: Define HMM\n",
        "\n",
        "- **States**: Noun (N), Verb (V)  \n",
        "- **Initial Probabilities (π):**  \n",
        "  - P(N) = 0.6  \n",
        "  - P(V) = 0.4  \n",
        "\n",
        "- **Transition Probabilities:**  \n",
        "\n",
        "| From \\ To | Noun | Verb |\n",
        "|-----------|------|------|\n",
        "| Noun      | 0.3  | 0.7  |\n",
        "| Verb      | 0.8  | 0.2  |\n",
        "\n",
        "- **Emission Probabilities (word given state):**  \n",
        "\n",
        "| State | watch | the | play |\n",
        "|-------|-------|-----|------|\n",
        "| Noun  | 0.1   | 0.6 | 0.3  |\n",
        "| Verb  | 0.7   | 0.1 | 0.2  |\n",
        "\n",
        "---\n",
        "\n",
        "## Step 2: Initialization (first word = \"watch\")\n",
        "\n",
        "We combine **initial probability × emission probability** because:  \n",
        "- First we choose a state (N or V).  \n",
        "- Then we generate the word from that state.  \n",
        "\n",
        "| State | Calculation             | Probability |\n",
        "|-------|-------------------------|-------------|\n",
        "| Noun  | 0.6 × 0.1              | 0.06        |\n",
        "| Verb  | 0.4 × 0.7              | 0.28        |\n",
        "\n",
        "Interpretation: At the start, “watch” is far more likely to be a **Verb** than a Noun.\n",
        "\n",
        "---\n",
        "\n",
        "## Step 3: Next word = \"the\"\n",
        "\n",
        "Now for each possible current state, we check both possible previous states.  \n",
        "We **multiply probabilities** because in HMM:  \n",
        "- The chance of being in a current state depends on  \n",
        "  (probability of previous state) × (transition to current) × (emission of word).  \n",
        "\n",
        "| Current State | From Noun                         | From Verb                         | Best Path |\n",
        "|---------------|----------------------------------|-----------------------------------|-----------|\n",
        "| Noun          | 0.06 × 0.3 × 0.6 = 0.0108        | 0.28 × 0.8 × 0.6 = 0.1344         | **0.1344 (Verb → Noun)** |\n",
        "| Verb          | 0.06 × 0.7 × 0.1 = 0.0042        | 0.28 × 0.2 × 0.1 = 0.0056         | **0.0056 (Verb → Verb)** |\n",
        "\n",
        "Interpretation:  \n",
        "- “the” is most likely a **Noun**, coming from a **Verb** before it.  \n",
        "- The sequence so far: \"watch (Verb) → the (Noun)\".\n",
        "\n",
        "---\n",
        "\n",
        "## Step 4: Next word = \"play\"\n",
        "\n",
        "Again, evaluate both states:\n",
        "\n",
        "| Current State | From Noun                          | From Verb                          | Best Path |\n",
        "|---------------|-----------------------------------|------------------------------------|-----------|\n",
        "| Noun          | 0.1344 × 0.3 × 0.3 = 0.012096     | 0.0056 × 0.8 × 0.3 = 0.001344      | **0.012096 (Verb → Noun → Noun)** |\n",
        "| Verb          | 0.1344 × 0.7 × 0.2 = 0.018816     | 0.0056 × 0.2 × 0.2 = 0.000224      | **0.018816 (Verb → Noun → Verb)** |\n",
        "\n",
        "Interpretation:  \n",
        "- For “play”, the most likely tag is **Verb**, reached from Noun.  \n",
        "- The final sequence is: **Verb → Noun → Verb**  \n",
        "  - \"watch\" = Verb  \n",
        "  - \"the\" = Noun  \n",
        "  - \"play\" = Verb  \n",
        "\n",
        "---\n",
        "\n",
        "## Step 5: Why Multiplications?\n",
        "\n",
        "- **Initial × Emission** → to start with both the state likelihood and how well the state explains the word.  \n",
        "- **Previous × Transition × Emission** →  \n",
        "  - Previous best path probability (how likely we were in the last state).  \n",
        "  - Transition probability (how likely we move to new state).  \n",
        "  - Emission probability (how likely the new state produces this word).  \n",
        "\n",
        "By multiplying, we chain probabilities across time. This captures the **joint probability** of the whole sequence.\n",
        "\n",
        "---\n",
        "\n",
        "## Final Result\n",
        "\n",
        "- Best sequence of tags: **Verb → Noun → Verb**  \n",
        "- Best path probability: **0.018816**\n",
        "\n",
        "---\n",
        "\n",
        "## Why Viterbi is Powerful\n",
        "\n",
        "- Without Viterbi:  \n",
        "  - For 3 words × 2 states → 2³ = 8 sequences checked.  \n",
        "  - For 10 words → 2¹⁰ = 1024 sequences checked.  \n",
        "\n",
        "- With Viterbi:  \n",
        "  - Only checks best path at each step.  \n",
        "  - Complexity is polynomial: **O(N² × T)**, where N = states, T = words.  \n",
        "\n",
        "---\n",
        "\n",
        "**Key Takeaway:**  \n",
        "The Viterbi algorithm efficiently finds the **most probable sequence of states** without brute-forcing all possibilities, by keeping track of the best path probabilities at each step.\n"
      ],
      "metadata": {
        "id": "Z_cTRjSRXgzT"
      }
    }
  ]
}