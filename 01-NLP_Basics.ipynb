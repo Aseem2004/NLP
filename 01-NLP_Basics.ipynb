{
  "nbformat": 4,
  "nbformat_minor": 0,
  "metadata": {
    "colab": {
      "provenance": [],
      "authorship_tag": "ABX9TyOiRHIrpbcAyKo498Go+Ymh",
      "include_colab_link": true
    },
    "kernelspec": {
      "name": "python3",
      "display_name": "Python 3"
    },
    "language_info": {
      "name": "python"
    }
  },
  "cells": [
    {
      "cell_type": "markdown",
      "metadata": {
        "id": "view-in-github",
        "colab_type": "text"
      },
      "source": [
        "<a href=\"https://colab.research.google.com/github/Aseem2004/NLP/blob/main/01-NLP_Basics.ipynb\" target=\"_parent\"><img src=\"https://colab.research.google.com/assets/colab-badge.svg\" alt=\"Open In Colab\"/></a>"
      ]
    },
    {
      "cell_type": "markdown",
      "source": [
        "# NLP\n",
        "\n",
        "Natural Language Processing (NLP) is a field of artificial intelligence that focuses on enabling computers to understand, interpret, and generate human language. It involves techniques for analyzing and processing text and speech data, allowing machines to perform tasks like translation, sentiment analysis, and text summarization.\n",
        "\n",
        "- It is the intersection of AI, Human Language and Computer Science\n",
        "- Applications:\n",
        "  - Chatbots\n",
        "  - Search Engines\n",
        "  - Social Media opinion mining\n",
        "  - Email spam filtering\n",
        "- Common Tasks:\n",
        "  - Sentiment Analysis\n",
        "  - Text Classification\n",
        "  - Info Retrieval\n",
        "  - Machine Translation\n",
        "  - Knowledge Graph\n",
        "  - Text Generation\n",
        "  - Speech to Text\n",
        "- Approaches Used:\n",
        "  - Heuristic: RegEx, Wordnet\n",
        "  - ML Based: Naive Bayes, SVM, Logistic Regression, Hidden Markov Models\n",
        "  - DL Based: RNN, CNN, LSTM, Transformers (BERT)"
      ],
      "metadata": {
        "id": "7sBGicpUJ5ii"
      }
    },
    {
      "cell_type": "markdown",
      "source": [
        "# NLP Pipeline\n",
        "\n",
        "Steps:\n",
        "  - **Data Acquisition**: Collection of Data\n",
        "    - Data Available within your company:\n",
        "      - On your table: Start next step\n",
        "      - In DB: Ask Data Engineering Team\n",
        "      - Have less data: Produce fake data (Data Augmentation), Add noise, Back translate (Translate to one language and then back to original)\n",
        "    - Data Available with others:\n",
        "      - Public Dataset\n",
        "      - Specific use cases APIs\n",
        "      - Web Scraping: Use HTML code of others\n",
        "      - Extract data from PDFs\n",
        "      - Extract text from images\n",
        "      - Extract text from speech from audio data\n",
        "    - Data isn't available in the market:\n",
        "      - Get data from customers, prepare labels and use heuristic approaches\n",
        "  - **Text Preparation**: Text cleaning step\n",
        "    - Cleaning:\n",
        "      - HTML Tags removal\n",
        "      - Emoji Removal\n",
        "      - Spelling Checker\n",
        "    - Basic Preprocessing:\n",
        "      - Mandatory: Tokenization (Word and Sentence Level)\n",
        "      - Optional: Stopwords Removal, Stemming/Lemmatization, Removing punctuations, Lowercasing\n",
        "    - Advanced Preprocessing:\n",
        "      - Parts of speech Tagging\n",
        "      - Coreference Resolution\n",
        "      - Parsing\n",
        "  - **Feature Engineering**: Conversion from text to numbers, i.e. preparation of features. Aka text vectorization.\n",
        "    - ML Based: You need to design features yourself.\n",
        "      - Adv: Model interpretability as you design the features.\n",
        "      - Disadv: Need to have domain knowledge to create features.\n",
        "    - DL Based: Features are generated automatically.\n",
        "      - Adv: No need to create features.\n",
        "      - Disavd: No interpretability of the model.\n",
        "  - **Building Model**:\n",
        "    - Modelling:\n",
        "      - Heuristic approaches\n",
        "      - ML Algos\n",
        "      - DL Algos\n",
        "      - Cloud based APIs\n",
        "    - Evaluation:\n",
        "      - Intrinsic: Using metrics like accuracy, cofusion matrix\n",
        "      - Extrinsic: Evaluation in business setting\n",
        "\n",
        "  - **Deployment**:\n",
        "    - Deployment: As API, As a bot\n",
        "    - Monitoring: Dashboards to monitor metrics\n",
        "    - Update: Updating model based on new data\n",
        "    \n",
        "    \n",
        "    "
      ],
      "metadata": {
        "id": "JLaGWqRnJ-Hq"
      }
    }
  ]
}